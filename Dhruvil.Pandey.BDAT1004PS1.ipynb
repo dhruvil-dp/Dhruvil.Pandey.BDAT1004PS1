{
 "cells": [
  {
   "cell_type": "markdown",
   "id": "0017797c",
   "metadata": {},
   "source": [
    "# Question 1\n",
    "\n",
    "What data type is each of the following (evaluate where necessary)? \n",
    "5\n",
    "\n",
    "5.0\n",
    "\n",
    "5 > 1\n",
    "\n",
    "'5'\n",
    "\n",
    "5 * 2\n",
    "\n",
    "'5' * 2\n",
    "\n",
    "'5' + '2'\n",
    "\n",
    "5 / 2\n",
    "\n",
    "5 % 2\n",
    "\n",
    "{5, 2, 1}\n",
    "\n",
    "5 == 3\n",
    "\n",
    "Pi (the number)"
   ]
  },
  {
   "cell_type": "code",
   "execution_count": 1,
   "id": "f1c44d84",
   "metadata": {},
   "outputs": [
    {
     "name": "stdout",
     "output_type": "stream",
     "text": [
      "5: <class 'int'>\n",
      "5.0: <class 'float'>\n",
      "5 > 1: <class 'bool'>\n",
      "'5': <class 'str'>\n",
      "5 * 2: <class 'int'>\n",
      "'5' * 2: <class 'str'>\n",
      "'5' + '2': <class 'str'>\n",
      "5 / 2: <class 'float'>\n",
      "5 % 2: <class 'int'>\n",
      "(5, 2, 1): <class 'set'>\n",
      "5 == 3: <class 'bool'>\n",
      "Pi (the number): <class 'float'>\n"
     ]
    }
   ],
   "source": [
    "import math\n",
    "print(f\"5: {type(5)}\")\n",
    "print(f\"5.0: {type(5.0)}\")\n",
    "print(f\"5 > 1: {type(5 > 1)}\")\n",
    "print(f\"'5': {type('5')}\")\n",
    "print(f\"5 * 2: {type(5 * 2)}\")\n",
    "print(f\"'5' * 2: {type('5' * 2)}\")\n",
    "print(f\"'5' + '2': {type('5' + '2')}\")\n",
    "print(f\"5 / 2: {type(5 / 2)}\")\n",
    "print(f\"5 % 2: {type(5 % 2)}\")\n",
    "print(f\"{5, 2, 1}: {type({5, 2, 1})}\")\n",
    "print(f\"5 == 3: {type(5 == 3)}\")\n",
    "print(f\"Pi (the number): {type(math.pi)}\")"
   ]
  },
  {
   "cell_type": "markdown",
   "id": "70e2132e",
   "metadata": {},
   "source": [
    "# Question 2\n",
    "\n",
    "Write (and evaluate) python expressions that answer these questions:\n",
    "\n",
    "a. How many letters are there in 'Supercalifragilisticexpialidocious'?\n",
    "\n",
    "b. Does 'Supercalifragilisticexpialidocious' contain 'ice' as a substring?\n",
    "\n",
    "c. Which of the following words is the longest:Supercalifragilisticexpialidocious, Honorificabilitudinitatibus, orBababadalgharaghtakamminarronnkonn?\n",
    "\n",
    "d. Which composer comes first in the dictionary: 'Berlioz', 'Borodin', 'Brian','Bartok', 'Bellini', 'Buxtehude', 'Bernstein'. Which one comes last?"
   ]
  },
  {
   "cell_type": "markdown",
   "id": "73995241",
   "metadata": {},
   "source": [
    "### Solution for a:"
   ]
  },
  {
   "cell_type": "code",
   "execution_count": 2,
   "id": "62af5d68",
   "metadata": {},
   "outputs": [
    {
     "name": "stdout",
     "output_type": "stream",
     "text": [
      "Length of Supercalifragilisticexpialidocious is 34\n"
     ]
    }
   ],
   "source": [
    "print(\"Length of Supercalifragilisticexpialidocious is\",len('Supercalifragilisticexpialidocious'))"
   ]
  },
  {
   "cell_type": "markdown",
   "id": "943d135e",
   "metadata": {},
   "source": [
    "### Solution for b:"
   ]
  },
  {
   "cell_type": "code",
   "execution_count": 3,
   "id": "7de0c87e",
   "metadata": {},
   "outputs": [
    {
     "name": "stdout",
     "output_type": "stream",
     "text": [
      "Yes ice is a substring of Supercalifragilisticexpialidocious.\n"
     ]
    }
   ],
   "source": [
    "if 'ice' in 'Supercalifragilisticexpialidocious':\n",
    "    print(f\"Yes ice is a substring of Supercalifragilisticexpialidocious.\")\n",
    "else:\n",
    "    print(f\"No ice is not a substring of 'Supercalifragilisticexpialidocious'.\")"
   ]
  },
  {
   "cell_type": "markdown",
   "id": "5e82a164",
   "metadata": {},
   "source": [
    "### Solution for c:"
   ]
  },
  {
   "cell_type": "code",
   "execution_count": 4,
   "id": "ed982d90",
   "metadata": {},
   "outputs": [
    {
     "name": "stdout",
     "output_type": "stream",
     "text": [
      "\"Supercalifragilisticexpialidocious\" is the longest string with length 34\n",
      "\"Bababadalgharaghtakamminarronnkonn\" is the longest string with length 34\n"
     ]
    }
   ],
   "source": [
    "string = [\"Supercalifragilisticexpialidocious\", \"Honorificabilitudinitatibus\", \"Bababadalgharaghtakamminarronnkonn\"]\n",
    "max_length = max(len(s) for s in string)\n",
    "\n",
    "longest_string = [s for s in string if len(s) == max_length]\n",
    "\n",
    "for s in longest_string:\n",
    "    print(f'\"{s}\" is the longest string with length {max_length}')"
   ]
  },
  {
   "cell_type": "markdown",
   "id": "085cac9e",
   "metadata": {},
   "source": [
    "### Solution for d:"
   ]
  },
  {
   "cell_type": "code",
   "execution_count": 5,
   "id": "dcdfb99f",
   "metadata": {},
   "outputs": [
    {
     "name": "stdout",
     "output_type": "stream",
     "text": [
      "The first composer in the dictionary is: Bartok\n",
      "The last composer in the dictionary is: Buxtehude\n"
     ]
    }
   ],
   "source": [
    "composers = ['Berlioz', 'Borodin', 'Brian', 'Bartok', 'Bellini', 'Buxtehude', 'Bernstein']\n",
    "\n",
    "composers.sort()\n",
    "\n",
    "print(f\"The first composer in the dictionary is: {composers[0]}\")\n",
    "\n",
    "print(f\"The last composer in the dictionary is: {composers[-1]}\")"
   ]
  },
  {
   "cell_type": "markdown",
   "id": "780c31cc",
   "metadata": {},
   "source": [
    "# Question 3\n",
    "\n",
    "Implement function triangleArea(a,b,c) that takes as input the lengths of the 3sides of a triangle and returns the area of the triangle. By Heron's formula, the areaof a triangle with side lengths a, b, and c iss(s - a)(s - b)(s - c) , wheres = (a + b + c) /2\n",
    "\n",
    "triangleArea(2,2,2)\n",
    "\n",
    "1.7320508075688772"
   ]
  },
  {
   "cell_type": "code",
   "execution_count": 6,
   "id": "8ab814f1",
   "metadata": {},
   "outputs": [],
   "source": [
    "def triangleArea(a,b,c):\n",
    "    s = (a+b+c)/2\n",
    "    area = (s * (s - a) * (s - b) * (s - c)) ** 0.5\n",
    "    return round(area, 2)"
   ]
  },
  {
   "cell_type": "code",
   "execution_count": 7,
   "id": "40bb11cc",
   "metadata": {},
   "outputs": [
    {
     "name": "stdout",
     "output_type": "stream",
     "text": [
      "Enter the length of side a: 1\n",
      "Enter the length of side b: 2\n",
      "Enter the length of side c: 3\n",
      "Area of triangle with sides (1, 2, 3) is 0.0\n"
     ]
    }
   ],
   "source": [
    "a = int(input('Enter the length of side a: '))\n",
    "b = int(input('Enter the length of side b: '))\n",
    "c = int(input('Enter the length of side c: '))\n",
    "print(f\"Area of triangle with sides {a, b, c} is\", triangleArea(a, b, c))"
   ]
  },
  {
   "cell_type": "markdown",
   "id": "b0027e29",
   "metadata": {},
   "source": [
    "# Question 4\n",
    "\n",
    "Write a program in python to separate odd and even integers in separate arrays. Goto the editor\n",
    "\n",
    "Test Data :Input the number of elements to be stored in the array :5\n",
    "\n",
    "Input 5 elements in the array :\n",
    "\n",
    "element - 0 : 25\n",
    "\n",
    "element - 1 : 47\n",
    "\n",
    "element - 2 : 42\n",
    "\n",
    "element - 3 : 56\n",
    "\n",
    "element - 4 : 32\n",
    "\n",
    "Expected Output:\n",
    "\n",
    "The Even elements are:\n",
    "\n",
    "42 56 32\n",
    "\n",
    "The Odd elements are :\n",
    "\n",
    "25 47"
   ]
  },
  {
   "cell_type": "code",
   "execution_count": 8,
   "id": "557e1fac",
   "metadata": {},
   "outputs": [
    {
     "name": "stdout",
     "output_type": "stream",
     "text": [
      "Enter the element 1 = 1\n",
      "Enter the element 2 = 2\n",
      "Enter the element 3 = 3\n",
      "Enter the element 4 = 4\n",
      "Enter the element 5 = 5\n",
      "\n",
      "Even elements are : [2, 4]\n",
      "\n",
      "Odd elements are: [1, 3, 5]\n"
     ]
    }
   ],
   "source": [
    "evenNum = []\n",
    "oddNum = []\n",
    "\n",
    "for i in range(5):\n",
    "    num = int(input(f'Enter the element {i+1} = '))\n",
    "    if num % 2==0 :\n",
    "        evenNum.append(num)\n",
    "    elif num % 2==1:\n",
    "        oddNum.append(num)\n",
    "print('\\nEven elements are :', evenNum)\n",
    "print('\\nOdd elements are:',oddNum)"
   ]
  },
  {
   "cell_type": "markdown",
   "id": "dbafb54c",
   "metadata": {},
   "source": [
    "# Question 5\n",
    "\n",
    "a. Write a function inside(x,y,x1,y1,x2,y2) that returns True or Falsedepending on whether the point (x,y) lies in the rectangle with lower leftcorner (x1,y1) and upper right corner (x2,y2).\n",
    "\n",
    "inside(1,1,0,0,2,3)\n",
    "\n",
    "True\n",
    "\n",
    "inside(-1,-1,0,0,2,3)\n",
    "\n",
    "False\n",
    "\n",
    "b. Use function inside() from part a. to write an expression that tests whetherthe point (1,1) lies in both of the following rectangles: one with lower leftcorner (0.3, 0.5) and upper right corner (1.1, 0.7) and the other with lowerleft corner (0.5, 0.2) and upper right corner (1.1, 2)."
   ]
  },
  {
   "cell_type": "markdown",
   "id": "6e356969",
   "metadata": {},
   "source": [
    "### Solution for a:"
   ]
  },
  {
   "cell_type": "code",
   "execution_count": 9,
   "id": "c2272d51",
   "metadata": {},
   "outputs": [],
   "source": [
    "def inside(x,y,x1,y1,x2,y2):\n",
    "    return True if x1 < x < x2 and y1 < y < y2 else False"
   ]
  },
  {
   "cell_type": "code",
   "execution_count": 10,
   "id": "ca5ca666",
   "metadata": {},
   "outputs": [
    {
     "data": {
      "text/plain": [
       "True"
      ]
     },
     "execution_count": 10,
     "metadata": {},
     "output_type": "execute_result"
    }
   ],
   "source": [
    "inside(1,1,0,0,2,3)"
   ]
  },
  {
   "cell_type": "code",
   "execution_count": 11,
   "id": "bf33a6ff",
   "metadata": {},
   "outputs": [
    {
     "data": {
      "text/plain": [
       "False"
      ]
     },
     "execution_count": 11,
     "metadata": {},
     "output_type": "execute_result"
    }
   ],
   "source": [
    "inside(-1,-1,0,0,2,3)"
   ]
  },
  {
   "cell_type": "markdown",
   "id": "56ab8690",
   "metadata": {},
   "source": [
    "### Solution for b:"
   ]
  },
  {
   "cell_type": "code",
   "execution_count": 19,
   "id": "473423aa",
   "metadata": {},
   "outputs": [],
   "source": [
    "def checkXY(x, y):\n",
    "    return inside(x, y, 0.3, 0.5, 1.1, 0.7) and inside(x, y, 0.5, 0.2, 1.1, 2)"
   ]
  },
  {
   "cell_type": "code",
   "execution_count": 20,
   "id": "62e11996",
   "metadata": {},
   "outputs": [
    {
     "name": "stdout",
     "output_type": "stream",
     "text": [
      "False\n"
     ]
    }
   ],
   "source": [
    "print(checkXY(1, 1))"
   ]
  },
  {
   "cell_type": "markdown",
   "id": "ad124812",
   "metadata": {},
   "source": [
    "# Question 6\n",
    "\n",
    "You can turn a word into pig-Latin using the following two rules (simplified):\n",
    "\n",
    "• If the word starts with a consonant, move that letter to the end and append'ay'. For example, 'happy' becomes 'appyhay' and 'pencil' becomes 'encilpay'.\n",
    "\n",
    "• If the word starts with a vowel, simply append 'way' to the end of the word.For example, 'enter' becomes 'enterway' and 'other' becomes 'otherway' . Forour purposes, there are 5 vowels: a, e, i, o, u (so we count y as a consonant).\n",
    "\n",
    "Write a function pig() that takes a word (i.e., a string) as input and returns its pig-Latin form. Your function should still work if the input word contains upper casecharacters. Your output should always be lower case however.\n",
    "\n",
    "pig('happy')\n",
    "\n",
    "'appyhay'\n",
    "\n",
    "pig('Enter')\n",
    "\n",
    "'enterway'"
   ]
  },
  {
   "cell_type": "code",
   "execution_count": 24,
   "id": "357a6e1e",
   "metadata": {},
   "outputs": [],
   "source": [
    "def pig(word):\n",
    "    vowels = ['a', 'e', 'i', 'o', 'u']\n",
    "    return word + 'way' if word[0] in vowels else word[1:] + word[0] + 'ay'"
   ]
  },
  {
   "cell_type": "code",
   "execution_count": 25,
   "id": "8487ad23",
   "metadata": {},
   "outputs": [
    {
     "data": {
      "text/plain": [
       "'appyhay'"
      ]
     },
     "execution_count": 25,
     "metadata": {},
     "output_type": "execute_result"
    }
   ],
   "source": [
    "pig('happy')"
   ]
  },
  {
   "cell_type": "code",
   "execution_count": 26,
   "id": "2f112a99",
   "metadata": {},
   "outputs": [
    {
     "data": {
      "text/plain": [
       "'enterway'"
      ]
     },
     "execution_count": 26,
     "metadata": {},
     "output_type": "execute_result"
    }
   ],
   "source": [
    "pig('enter')"
   ]
  },
  {
   "cell_type": "markdown",
   "id": "765d0a42",
   "metadata": {},
   "source": [
    "# Question 7\n",
    "\n",
    "File bloodtype1.txt records blood-types of patients (A, B, AB, O or OO) at a clinic.Write a function bldcount() that reads the file with name name and reports (i.e.,prints) how many patients there are in each bloodtype.\n",
    "\n",
    "bldcount('bloodtype.txt')\n",
    "\n",
    "There are 10 patients of blood type A.\n",
    "\n",
    "There is one patient of blood type B.\n",
    "\n",
    "There are 10 patients of blood type AB.\n",
    "\n",
    "There are 12 patients of blood type O.\n",
    "\n",
    "There are no patients of blood type OO."
   ]
  },
  {
   "cell_type": "code",
   "execution_count": 52,
   "id": "2853b26e",
   "metadata": {},
   "outputs": [],
   "source": [
    "def bldcount(bloodTypeFilePath):\n",
    "    \n",
    "    \n",
    "    with open (bloodTypeFilePath, 'r') as f: \n",
    "        bloodTypesList = f.read().split()\n",
    "        bloodTypes = ['A','B','AB','O','OO']\n",
    "        result=[]\n",
    "        for bloodType in bloodTypes:\n",
    "            count = bloodTypesList.count(bloodType)\n",
    "            match count:\n",
    "                case 0:\n",
    "                    result.append(f\"There are no patients of blood type {bloodType}.\")\n",
    "                case 1:\n",
    "                    result.append(f\"There is one patient with blood type {bloodType}.\")\n",
    "                case _:\n",
    "                    result.append(f\"There are {count} patients of blood type {bloodType}.\")\n",
    "            \n",
    "    return '\\n'.join(result)"
   ]
  },
  {
   "cell_type": "code",
   "execution_count": 53,
   "id": "37b841d1",
   "metadata": {},
   "outputs": [
    {
     "name": "stdout",
     "output_type": "stream",
     "text": [
      "There are 15 patients of blood type A.\n",
      "There is one patient with blood type B.\n",
      "There are 13 patients of blood type AB.\n",
      "There are 15 patients of blood type O.\n",
      "There are no patients of blood type OO.\n"
     ]
    }
   ],
   "source": [
    "print(bldcount(\"bloodtype1.txt\"))"
   ]
  },
  {
   "cell_type": "markdown",
   "id": "120f3bc0",
   "metadata": {},
   "source": [
    "# Question 8\n",
    "\n",
    "\n",
    "Write a function curconv() that takes as input:\n",
    "\n",
    "1. a currency represented using a string (e.g., 'JPY' for the Japanese Yen or'EUR' for the Euro)\n",
    "\n",
    "2. an amountand then converts and returns the amount in US dollars.\n",
    "\n",
    "curconv('EUR', 100)\n",
    "\n",
    "122.96544\n",
    "\n",
    "curconv('JPY', 100)\n",
    "\n",
    "1.241401"
   ]
  },
  {
   "cell_type": "code",
   "execution_count": 54,
   "id": "b0336691",
   "metadata": {},
   "outputs": [],
   "source": [
    "currencies = []\n",
    "with open(\"currencies.txt\",'r') as f:\n",
    "    for line in f:\n",
    "        cur, rate, _ = line.split(\"\\t\")\n",
    "        data = {\"currency\" : cur,\n",
    "                \"rate\": float(rate),\n",
    "                \"name\": _}\n",
    "        currencies.append(data)\n",
    "\n",
    "def curconv(currency : str , amount : float):\n",
    "    for curr in currencies :\n",
    "        if(curr['currency'] == currency):\n",
    "            result = amount * curr['rate']\n",
    "    \n",
    "    return round(result, 2)"
   ]
  },
  {
   "cell_type": "code",
   "execution_count": 55,
   "id": "3bc70f8e",
   "metadata": {},
   "outputs": [
    {
     "data": {
      "text/plain": [
       "155.51"
      ]
     },
     "execution_count": 55,
     "metadata": {},
     "output_type": "execute_result"
    }
   ],
   "source": [
    "curconv(\"GBP\", 100 )"
   ]
  },
  {
   "cell_type": "markdown",
   "id": "cf0ee026",
   "metadata": {},
   "source": [
    "# Question 9\n",
    "\n",
    "Each of the following will cause an exception (an error). Identify what type ofexception each will cause.\n",
    "\n",
    "Trying to add incompatible variables, as inadding 6 + ‘a’\n",
    "\n",
    "Referring to the 12th item of a list that has only 10 items\n",
    "\n",
    "Using a value that is out of range for a function’sinput, such as calling math.sqrt(-1.0)\n",
    "\n",
    "Using an undeclared variable, such as print(x)when x has not been defined\n",
    "\n",
    "Trying to open a file that does not exist, such asmistyping the file name or looking in the wrongdirectory"
   ]
  },
  {
   "cell_type": "code",
   "execution_count": 41,
   "id": "2317c532",
   "metadata": {},
   "outputs": [
    {
     "ename": "TypeError",
     "evalue": "unsupported operand type(s) for +: 'int' and 'str'",
     "output_type": "error",
     "traceback": [
      "\u001b[1;31m---------------------------------------------------------------------------\u001b[0m",
      "\u001b[1;31mTypeError\u001b[0m                                 Traceback (most recent call last)",
      "Cell \u001b[1;32mIn[41], line 1\u001b[0m\n\u001b[1;32m----> 1\u001b[0m \u001b[38;5;28mprint\u001b[39m(\u001b[38;5;241m6\u001b[39m\u001b[38;5;241m+\u001b[39m\u001b[38;5;124m'\u001b[39m\u001b[38;5;124ma\u001b[39m\u001b[38;5;124m'\u001b[39m)\n",
      "\u001b[1;31mTypeError\u001b[0m: unsupported operand type(s) for +: 'int' and 'str'"
     ]
    }
   ],
   "source": [
    "print(6+'a')"
   ]
  },
  {
   "cell_type": "markdown",
   "id": "79cf4f04",
   "metadata": {},
   "source": [
    "### Answer: Type Error"
   ]
  },
  {
   "cell_type": "code",
   "execution_count": 42,
   "id": "19741df5",
   "metadata": {},
   "outputs": [
    {
     "ename": "IndexError",
     "evalue": "list index out of range",
     "output_type": "error",
     "traceback": [
      "\u001b[1;31m---------------------------------------------------------------------------\u001b[0m",
      "\u001b[1;31mIndexError\u001b[0m                                Traceback (most recent call last)",
      "Cell \u001b[1;32mIn[42], line 3\u001b[0m\n\u001b[0;32m      1\u001b[0m \u001b[38;5;28mlist\u001b[39m \u001b[38;5;241m=\u001b[39m [\u001b[38;5;241m1\u001b[39m, \u001b[38;5;241m2\u001b[39m, \u001b[38;5;241m3\u001b[39m, \u001b[38;5;241m4\u001b[39m, \u001b[38;5;241m5\u001b[39m, \u001b[38;5;241m6\u001b[39m, \u001b[38;5;241m7\u001b[39m, \u001b[38;5;241m8\u001b[39m, \u001b[38;5;241m9\u001b[39m, \u001b[38;5;241m10\u001b[39m]\n\u001b[1;32m----> 3\u001b[0m \u001b[38;5;28mprint\u001b[39m(\u001b[38;5;28mlist\u001b[39m[\u001b[38;5;241m12\u001b[39m])\n",
      "\u001b[1;31mIndexError\u001b[0m: list index out of range"
     ]
    }
   ],
   "source": [
    "list = [1, 2, 3, 4, 5, 6, 7, 8, 9, 10]\n",
    "\n",
    "print(list[12])"
   ]
  },
  {
   "cell_type": "markdown",
   "id": "74b594ca",
   "metadata": {},
   "source": [
    "### Answer: Index Error"
   ]
  },
  {
   "cell_type": "code",
   "execution_count": 43,
   "id": "e2c75698",
   "metadata": {},
   "outputs": [
    {
     "ename": "ValueError",
     "evalue": "math domain error",
     "output_type": "error",
     "traceback": [
      "\u001b[1;31m---------------------------------------------------------------------------\u001b[0m",
      "\u001b[1;31mValueError\u001b[0m                                Traceback (most recent call last)",
      "Cell \u001b[1;32mIn[43], line 3\u001b[0m\n\u001b[0;32m      1\u001b[0m \u001b[38;5;28;01mimport\u001b[39;00m \u001b[38;5;21;01mmath\u001b[39;00m\n\u001b[1;32m----> 3\u001b[0m math\u001b[38;5;241m.\u001b[39msqrt(\u001b[38;5;241m-\u001b[39m\u001b[38;5;241m1.0\u001b[39m)\n",
      "\u001b[1;31mValueError\u001b[0m: math domain error"
     ]
    }
   ],
   "source": [
    "import math\n",
    "\n",
    "math.sqrt(-1.0)"
   ]
  },
  {
   "cell_type": "markdown",
   "id": "393890e7",
   "metadata": {},
   "source": [
    "### Answer: Value Error"
   ]
  },
  {
   "cell_type": "code",
   "execution_count": 44,
   "id": "b0813aa4",
   "metadata": {},
   "outputs": [
    {
     "ename": "NameError",
     "evalue": "name 'x' is not defined",
     "output_type": "error",
     "traceback": [
      "\u001b[1;31m---------------------------------------------------------------------------\u001b[0m",
      "\u001b[1;31mNameError\u001b[0m                                 Traceback (most recent call last)",
      "Cell \u001b[1;32mIn[44], line 1\u001b[0m\n\u001b[1;32m----> 1\u001b[0m \u001b[38;5;28mprint\u001b[39m(x)\n",
      "\u001b[1;31mNameError\u001b[0m: name 'x' is not defined"
     ]
    }
   ],
   "source": [
    "print(x)"
   ]
  },
  {
   "cell_type": "markdown",
   "id": "fae12473",
   "metadata": {},
   "source": [
    "### Answer: Name Error"
   ]
  },
  {
   "cell_type": "code",
   "execution_count": 45,
   "id": "7797805e",
   "metadata": {},
   "outputs": [
    {
     "ename": "FileNotFoundError",
     "evalue": "[Errno 2] No such file or directory: 'xyz.txt'",
     "output_type": "error",
     "traceback": [
      "\u001b[1;31m---------------------------------------------------------------------------\u001b[0m",
      "\u001b[1;31mFileNotFoundError\u001b[0m                         Traceback (most recent call last)",
      "Cell \u001b[1;32mIn[45], line 1\u001b[0m\n\u001b[1;32m----> 1\u001b[0m \u001b[38;5;28;01mwith\u001b[39;00m \u001b[38;5;28mopen\u001b[39m(\u001b[38;5;124m'\u001b[39m\u001b[38;5;124mxyz.txt\u001b[39m\u001b[38;5;124m'\u001b[39m, \u001b[38;5;124m'\u001b[39m\u001b[38;5;124mr\u001b[39m\u001b[38;5;124m'\u001b[39m) \u001b[38;5;28;01mas\u001b[39;00m f:\n\u001b[0;32m      2\u001b[0m     data \u001b[38;5;241m=\u001b[39m f\u001b[38;5;241m.\u001b[39mread()\n",
      "File \u001b[1;32m~\\anaconda3\\envs\\DataProgrammingSet1\\Lib\\site-packages\\IPython\\core\\interactiveshell.py:286\u001b[0m, in \u001b[0;36m_modified_open\u001b[1;34m(file, *args, **kwargs)\u001b[0m\n\u001b[0;32m    279\u001b[0m \u001b[38;5;28;01mif\u001b[39;00m file \u001b[38;5;129;01min\u001b[39;00m {\u001b[38;5;241m0\u001b[39m, \u001b[38;5;241m1\u001b[39m, \u001b[38;5;241m2\u001b[39m}:\n\u001b[0;32m    280\u001b[0m     \u001b[38;5;28;01mraise\u001b[39;00m \u001b[38;5;167;01mValueError\u001b[39;00m(\n\u001b[0;32m    281\u001b[0m         \u001b[38;5;124mf\u001b[39m\u001b[38;5;124m\"\u001b[39m\u001b[38;5;124mIPython won\u001b[39m\u001b[38;5;124m'\u001b[39m\u001b[38;5;124mt let you open fd=\u001b[39m\u001b[38;5;132;01m{\u001b[39;00mfile\u001b[38;5;132;01m}\u001b[39;00m\u001b[38;5;124m by default \u001b[39m\u001b[38;5;124m\"\u001b[39m\n\u001b[0;32m    282\u001b[0m         \u001b[38;5;124m\"\u001b[39m\u001b[38;5;124mas it is likely to crash IPython. If you know what you are doing, \u001b[39m\u001b[38;5;124m\"\u001b[39m\n\u001b[0;32m    283\u001b[0m         \u001b[38;5;124m\"\u001b[39m\u001b[38;5;124myou can use builtins\u001b[39m\u001b[38;5;124m'\u001b[39m\u001b[38;5;124m open.\u001b[39m\u001b[38;5;124m\"\u001b[39m\n\u001b[0;32m    284\u001b[0m     )\n\u001b[1;32m--> 286\u001b[0m \u001b[38;5;28;01mreturn\u001b[39;00m io_open(file, \u001b[38;5;241m*\u001b[39margs, \u001b[38;5;241m*\u001b[39m\u001b[38;5;241m*\u001b[39mkwargs)\n",
      "\u001b[1;31mFileNotFoundError\u001b[0m: [Errno 2] No such file or directory: 'xyz.txt'"
     ]
    }
   ],
   "source": [
    "with open('xyz.txt', 'r') as f:\n",
    "    data = f.read()"
   ]
  },
  {
   "cell_type": "markdown",
   "id": "33504d2f",
   "metadata": {},
   "source": [
    "### Answer: File Not Found Error"
   ]
  },
  {
   "cell_type": "markdown",
   "id": "0f7e90b5",
   "metadata": {},
   "source": [
    "# Question 10\n",
    "\n",
    "Encryption is the process of hiding the meaning of a text by substituting letters in themessage with other letters, according to some system. If the process is successful, noone but the intended recipient can understand the encrypted message. Cryptanalysisrefers to attempts to undo the encryption, even if some details of the encryption areunknown (for example, if an encrypted message has been intercepted). The first stepof cryptanalysis is often to build up a table of letter frequencies in the encrypted text.Assume that the string letters is already defined as'abcdefghijklmnopqrstuvwxyz'. Write a function called frequencies()that takes a string as its only parameter, and returns a list of integers, showing thenumber of times each character appears in the text. Your function may ignore anycharacters that are not in letters.\n",
    "\n",
    "frequencies('The quick red fox got bored and went home.')\n",
    "\n",
    "[1, 1, 1, 3, 5, 1, 1, 2, 1, 0, 1, 0, 1, 2, 4, 0, 1, 2, 0, 2,1, 0, 1, 1, 0, 0] \n",
    "\n",
    "\n",
    "frequencies('apple')"
   ]
  },
  {
   "cell_type": "code",
   "execution_count": 39,
   "id": "d7c574c0",
   "metadata": {},
   "outputs": [],
   "source": [
    "def frequencies(string):\n",
    "    frequencies = []\n",
    "    alphas = 'abcdefghijklmnopqrstuvwxyz'\n",
    "    \n",
    "    frequencies = [string.count(s) for s in alphas]\n",
    "    \n",
    "    return frequencies\n"
   ]
  },
  {
   "cell_type": "code",
   "execution_count": 40,
   "id": "3b41d27f",
   "metadata": {},
   "outputs": [
    {
     "data": {
      "text/plain": [
       "[1, 1, 1, 3, 5, 1, 1, 2, 1, 0, 1, 0, 1, 2, 4, 0, 1, 2, 0, 2, 1, 0, 1, 1, 0, 0]"
      ]
     },
     "execution_count": 40,
     "metadata": {},
     "output_type": "execute_result"
    }
   ],
   "source": [
    "frequencies(\"'The quick red fox got bored and went home.\")"
   ]
  },
  {
   "cell_type": "code",
   "execution_count": 38,
   "id": "16688ca2",
   "metadata": {},
   "outputs": [
    {
     "data": {
      "text/plain": [
       "[1, 0, 0, 0, 1, 0, 0, 0, 0, 0, 0, 1, 0, 0, 0, 2, 0, 0, 0, 0, 0, 0, 0, 0, 0, 0]"
      ]
     },
     "execution_count": 38,
     "metadata": {},
     "output_type": "execute_result"
    }
   ],
   "source": [
    "frequencies('apple')"
   ]
  }
 ],
 "metadata": {
  "kernelspec": {
   "display_name": "Python 3 (ipykernel)",
   "language": "python",
   "name": "python3"
  },
  "language_info": {
   "codemirror_mode": {
    "name": "ipython",
    "version": 3
   },
   "file_extension": ".py",
   "mimetype": "text/x-python",
   "name": "python",
   "nbconvert_exporter": "python",
   "pygments_lexer": "ipython3",
   "version": "3.11.5"
  }
 },
 "nbformat": 4,
 "nbformat_minor": 5
}
